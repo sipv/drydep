{
 "cells": [
  {
   "cell_type": "code",
   "execution_count": null,
   "metadata": {
    "collapsed": false
   },
   "outputs": [],
   "source": [
    "import drydep\n",
    "import matplotlib.pyplot as plt\n",
    "import numpy as np\n",
    "\n",
    "%matplotlib inline"
   ]
  },
  {
   "cell_type": "markdown",
   "metadata": {},
   "source": [
    "###Basics\n",
    "\n",
    "`drydep.calc()` wraps the main functionality of the package."
   ]
  },
  {
   "cell_type": "code",
   "execution_count": null,
   "metadata": {
    "collapsed": false
   },
   "outputs": [],
   "source": [
    "drydep.calc(\"Petroff\",\n",
    "            {\"mu\": 1.82e-5, \"rho\": 1.2041, \"T\": 300, \"uf\": 0.3, \"u\": 1.0},\n",
    "            {\"rho\": 1000, \"d\": 1e-5},\n",
    "            {\"de\": 0.002, \"leafType\": \"needle\", \"leafDist\": \"plagiophile\"})"
   ]
  },
  {
   "cell_type": "markdown",
   "metadata": {},
   "source": [
    "### Charts\n",
    "\n",
    "It can be used to plot the dependence on particle size for various element sizes..."
   ]
  },
  {
   "cell_type": "code",
   "execution_count": null,
   "metadata": {
    "collapsed": false
   },
   "outputs": [],
   "source": [
    "environ = {\"mu\": 1.82e-5, \"rho\": 1.2041, \"T\": 300, \"uf\": 0.3, \"u\": 1.0}\n",
    "particle = {\"rho\": 1000}\n",
    "vegetation = {\"leafType\": \"needle\", \"leafDist\": \"plagiophile\"}\n",
    "diams = np.logspace(-9, -3, 100)\n",
    "\n",
    "for de in [0.001, 0.002, 0.003]:\n",
    "    ud = np.vectorize(lambda dp: drydep.calc(\n",
    "        \"Petroff\",\n",
    "        environ,\n",
    "        dict(d=dp, **particle),\n",
    "        dict(de=de, **vegetation))) (diams)\n",
    "    plt.loglog(1e6*diams, 100*ud, label=\"de={} m\".format(de))\n",
    "\n",
    "plt.xlabel(\"Particle diameter [µm]\")\n",
    "plt.ylabel(\"Deposition velocity [cm/s]\")\n",
    "plt.legend(loc='best')\n",
    "plt.show()"
   ]
  },
  {
   "cell_type": "markdown",
   "metadata": {},
   "source": [
    "...under different atmospheric conditions..."
   ]
  },
  {
   "cell_type": "code",
   "execution_count": null,
   "metadata": {
    "collapsed": false
   },
   "outputs": [],
   "source": [
    "environ = {\"mu\": 1.82e-5, \"rho\": 1.2041, \"T\": 300, \"uf\": 0.3}\n",
    "particle = {\"rho\": 1000}\n",
    "vegetation = {\"leafType\": \"needle\", \"leafDist\": \"plagiophile\", \"de\": 0.002}\n",
    "diams = np.logspace(-9, -3, 100)\n",
    "\n",
    "for u in [0.5, 1, 2, 5, 10]:\n",
    "    ud = np.vectorize(lambda dp: drydep.calc(\n",
    "        \"Petroff\",\n",
    "        dict(u=u, **environ),\n",
    "        dict(d=dp, **particle),\n",
    "        vegetation)) (diams)\n",
    "    plt.loglog(1e6*diams, 100*ud, label=\"u={} m/s\".format(u))\n",
    "\n",
    "plt.xlabel(\"Particle diameter [µm]\")\n",
    "plt.ylabel(\"Deposition velocity [cm/s]\")\n",
    "plt.legend(loc='best')\n",
    "plt.show()"
   ]
  },
  {
   "cell_type": "markdown",
   "metadata": {},
   "source": [
    "...or to compare predictions by different models."
   ]
  },
  {
   "cell_type": "code",
   "execution_count": null,
   "metadata": {
    "collapsed": false
   },
   "outputs": [],
   "source": [
    "environ = {\"mu\": 1.82e-5, \"rho\": 1.2041, \"T\": 300, \"uf\": 0.1, \"u\": 1.0}\n",
    "particle = {\"rho\": 1000}\n",
    "vegetation = {\"leafType\": \"needle\", \"leafDist\": \"plagiophile\", \"de\": 0.002, 'frontalToTotal': 0.27}\n",
    "diams = np.logspace(-9, -3, 100)\n",
    "\n",
    "for model, label in [(\"Raupach\", \"Raupach et al, 2001\"),\n",
    "                     (\"Petroff\", \"Petroff et al, 2008\")]:\n",
    "    ud = np.vectorize(lambda dp: drydep.calc(\n",
    "        model, environ, dict(d=dp, **particle), vegetation)) (diams)\n",
    "    plt.loglog(1e6*diams, 100*ud, label=label)\n",
    "\n",
    "plt.xlabel(\"Particle diameter [µm]\")\n",
    "plt.ylabel(\"Deposition velocity [cm/s]\")\n",
    "plt.legend(loc='best')\n",
    "plt.show()"
   ]
  },
  {
   "cell_type": "markdown",
   "metadata": {},
   "source": [
    "Only a component of the deposition velocity associated with a physical process may be obtained by specifying the component."
   ]
  },
  {
   "cell_type": "code",
   "execution_count": null,
   "metadata": {
    "collapsed": false
   },
   "outputs": [],
   "source": [
    "environ = {\"mu\": 1.82e-5, \"rho\": 1.2041, \"T\": 300, \"uf\": 0.1, \"u\": 1.0}\n",
    "particle = {\"rho\": 1000}\n",
    "vegetation = {\"leafType\": \"needle\", \"leafDist\": \"plagiophile\", \"de\": 0.002}\n",
    "diams = np.logspace(-9, -3, 100)\n",
    "\n",
    "for component in drydep.PetroffModel.get_components():\n",
    "    ud = np.vectorize(lambda dp: drydep.calc(\n",
    "        \"Petroff\", environ, dict(d=dp, **particle), vegetation,\n",
    "        component=component)) (diams)\n",
    "    plt.loglog(1e6*diams, 100*ud, label=component)\n",
    "\n",
    "plt.xlabel(\"Particle diameter [µm]\")\n",
    "plt.ylabel(\"Deposition velocity [cm/s]\")\n",
    "plt.legend(loc='best')\n",
    "plt.ylim([1e-3, 1e3])\n",
    "plt.show()"
   ]
  }
 ],
 "metadata": {
  "kernelspec": {
   "display_name": "Python 3",
   "language": "python",
   "name": "python3"
  },
  "language_info": {
   "codemirror_mode": {
    "name": "ipython",
    "version": 3
   },
   "file_extension": ".py",
   "mimetype": "text/x-python",
   "name": "python",
   "nbconvert_exporter": "python",
   "pygments_lexer": "ipython3",
   "version": "3.4.5"
  }
 },
 "nbformat": 4,
 "nbformat_minor": 0
}
